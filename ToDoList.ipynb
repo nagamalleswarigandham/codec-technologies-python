{
 "cells": [
  {
   "cell_type": "code",
   "execution_count": null,
   "id": "779191d9-1d80-4b24-aa07-5431934d78d4",
   "metadata": {},
   "outputs": [
    {
     "name": "stdout",
     "output_type": "stream",
     "text": [
      "Welcome to your Simple To-Do List!\n",
      "\n",
      "Options:\n",
      "1. Add a task\n",
      "2. Remove a task\n",
      "3. View tasks\n",
      "4. Exit\n"
     ]
    },
    {
     "name": "stdin",
     "output_type": "stream",
     "text": [
      "Enter your choice (1-4):  1\n",
      "Enter the task to add:  read\n"
     ]
    },
    {
     "name": "stdout",
     "output_type": "stream",
     "text": [
      "Task 'read' added to your to-do list.\n",
      "\n",
      "Options:\n",
      "1. Add a task\n",
      "2. Remove a task\n",
      "3. View tasks\n",
      "4. Exit\n"
     ]
    },
    {
     "name": "stdin",
     "output_type": "stream",
     "text": [
      "Enter your choice (1-4):  1\n",
      "Enter the task to add:  prepare\n"
     ]
    },
    {
     "name": "stdout",
     "output_type": "stream",
     "text": [
      "Task 'prepare' added to your to-do list.\n",
      "\n",
      "Options:\n",
      "1. Add a task\n",
      "2. Remove a task\n",
      "3. View tasks\n",
      "4. Exit\n"
     ]
    },
    {
     "name": "stdin",
     "output_type": "stream",
     "text": [
      "Enter your choice (1-4):  3\n"
     ]
    },
    {
     "name": "stdout",
     "output_type": "stream",
     "text": [
      "Your To-Do List:\n",
      "1. read\n",
      "2. prepare\n",
      "\n",
      "Options:\n",
      "1. Add a task\n",
      "2. Remove a task\n",
      "3. View tasks\n",
      "4. Exit\n"
     ]
    },
    {
     "name": "stdin",
     "output_type": "stream",
     "text": [
      "Enter your choice (1-4):  2\n",
      "Enter the task to remove:  prepare\n"
     ]
    },
    {
     "name": "stdout",
     "output_type": "stream",
     "text": [
      "Task 'prepare' removed from your to-do list.\n",
      "\n",
      "Options:\n",
      "1. Add a task\n",
      "2. Remove a task\n",
      "3. View tasks\n",
      "4. Exit\n"
     ]
    },
    {
     "name": "stdin",
     "output_type": "stream",
     "text": [
      "Enter your choice (1-4):  3\n"
     ]
    },
    {
     "name": "stdout",
     "output_type": "stream",
     "text": [
      "Your To-Do List:\n",
      "1. read\n",
      "\n",
      "Options:\n",
      "1. Add a task\n",
      "2. Remove a task\n",
      "3. View tasks\n",
      "4. Exit\n"
     ]
    }
   ],
   "source": [
    "class ToDoList:\n",
    "    def __init__(self):\n",
    "        self.tasks = []\n",
    "    \n",
    "    def add_task(self, task):\n",
    "        self.tasks.append(task)\n",
    "        print(f\"Task '{task}' added to your to-do list.\")\n",
    "    \n",
    "    def remove_task(self, task):\n",
    "        if task in self.tasks:\n",
    "            self.tasks.remove(task)\n",
    "            print(f\"Task '{task}' removed from your to-do list.\")\n",
    "        else:\n",
    "            print(f\"Task '{task}' not found in your to-do list.\")\n",
    "    \n",
    "    def view_tasks(self):\n",
    "        if not self.tasks:\n",
    "            print(\"Your to-do list is empty.\")\n",
    "        else:\n",
    "            print(\"Your To-Do List:\")\n",
    "            for index, task in enumerate(self.tasks, start=1):\n",
    "                print(f\"{index}. {task}\")\n",
    "    \n",
    "    def run(self):\n",
    "        print(\"Welcome to your Simple To-Do List!\")\n",
    "        while True:\n",
    "            print(\"\\nOptions:\")\n",
    "            print(\"1. Add a task\")\n",
    "            print(\"2. Remove a task\")\n",
    "            print(\"3. View tasks\")\n",
    "            print(\"4. Exit\")\n",
    "            \n",
    "            choice = input(\"Enter your choice (1-4): \")\n",
    "            \n",
    "            if choice == \"1\":\n",
    "                task = input(\"Enter the task to add: \")\n",
    "                self.add_task(task)\n",
    "            elif choice == \"2\":\n",
    "                task = input(\"Enter the task to remove: \")\n",
    "                self.remove_task(task)\n",
    "            elif choice == \"3\":\n",
    "                self.view_tasks()\n",
    "            elif choice == \"4\":\n",
    "                print(\"Goodbye!\")\n",
    "                break\n",
    "            else:\n",
    "                print(\"Invalid choice. Please enter a number between 1 and 4.\")\n",
    "\n",
    "if __name__ == \"__main__\":\n",
    "    todo_list = ToDoList()\n",
    "    todo_list.run()"
   ]
  },
  {
   "cell_type": "code",
   "execution_count": null,
   "id": "3628a116-270b-47c8-bd11-42bbff4b39fc",
   "metadata": {},
   "outputs": [],
   "source": []
  }
 ],
 "metadata": {
  "kernelspec": {
   "display_name": "Python 3 (ipykernel)",
   "language": "python",
   "name": "python3"
  },
  "language_info": {
   "codemirror_mode": {
    "name": "ipython",
    "version": 3
   },
   "file_extension": ".py",
   "mimetype": "text/x-python",
   "name": "python",
   "nbconvert_exporter": "python",
   "pygments_lexer": "ipython3",
   "version": "3.11.7"
  }
 },
 "nbformat": 4,
 "nbformat_minor": 5
}
